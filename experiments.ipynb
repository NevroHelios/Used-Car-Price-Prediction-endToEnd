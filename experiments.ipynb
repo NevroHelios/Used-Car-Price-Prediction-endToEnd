{
 "cells": [
  {
   "cell_type": "code",
   "execution_count": 1,
   "metadata": {},
   "outputs": [],
   "source": [
    "from src.feature_engineering import GroupRareCategories, TargetEncode\n",
    "import pandas as pd\n",
    "from sklearn.impute import SimpleImputer"
   ]
  },
  {
   "cell_type": "code",
   "execution_count": null,
   "metadata": {},
   "outputs": [],
   "source": [
    "from src.ingest_data import DataIngestorFactory\n",
    "file_path_demo = \"E:\\kaggle\\Regression of Used Car Prices\\data\\playground-series-s4e9.zip\"\n",
    "\n",
    "# get the file extension\n",
    "file_extension = file_path_demo.split(\".\")[-1]\n",
    "\n",
    "# get the data ingestor\n",
    "data_ingestor = DataIngestorFactory.get_data_ingestor(file_extension)\n",
    "\n",
    "# ingest the data and load it into dataframe\n",
    "df_train, df_test, df_sample = data_ingestor.ingest(file_path_demo)\n",
    "\n",
    "print(df_train.head())\n"
   ]
  }
 ],
 "metadata": {
  "kernelspec": {
   "display_name": "cuda",
   "language": "python",
   "name": "python3"
  },
  "language_info": {
   "codemirror_mode": {
    "name": "ipython",
    "version": 3
   },
   "file_extension": ".py",
   "mimetype": "text/x-python",
   "name": "python",
   "nbconvert_exporter": "python",
   "pygments_lexer": "ipython3",
   "version": "3.12.7"
  }
 },
 "nbformat": 4,
 "nbformat_minor": 2
}
