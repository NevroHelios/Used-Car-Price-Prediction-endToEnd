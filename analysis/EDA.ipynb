{
 "cells": [
  {
   "cell_type": "code",
   "execution_count": 6,
   "metadata": {},
   "outputs": [
    {
     "name": "stdout",
     "output_type": "stream",
     "text": [
      "Downloading playground-series-s4e9.zip to e:\\kaggle\\Regression of Used Car Prices\n",
      "\n"
     ]
    },
    {
     "name": "stderr",
     "output_type": "stream",
     "text": [
      "\n",
      "  0%|          | 0.00/7.84M [00:00<?, ?B/s]\n",
      " 13%|█▎        | 1.00M/7.84M [00:01<00:11, 646kB/s]\n",
      " 26%|██▌       | 2.00M/7.84M [00:01<00:04, 1.26MB/s]\n",
      " 38%|███▊      | 3.00M/7.84M [00:02<00:02, 2.02MB/s]\n",
      " 51%|█████     | 4.00M/7.84M [00:02<00:01, 2.75MB/s]\n",
      " 64%|██████▍   | 5.00M/7.84M [00:02<00:00, 3.64MB/s]\n",
      " 77%|███████▋  | 6.00M/7.84M [00:02<00:00, 4.11MB/s]\n",
      " 89%|████████▉ | 7.00M/7.84M [00:02<00:00, 4.87MB/s]\n",
      "100%|██████████| 7.84M/7.84M [00:02<00:00, 5.23MB/s]\n",
      "100%|██████████| 7.84M/7.84M [00:02<00:00, 2.93MB/s]\n"
     ]
    }
   ],
   "source": [
    "# !kaggle competitions download -c playground-series-s4e9"
   ]
  },
  {
   "cell_type": "code",
   "metadata": {
    "ExecuteTime": {
     "end_time": "2024-09-06T07:10:26.897697Z",
     "start_time": "2024-09-06T07:10:25.414753Z"
    }
   },
   "source": [
    "import pandas as pd\n",
    "import matplotlib.pyplot as plt\n",
    "\n",
    "from analytic_src.basic_data_inspection import DataInspector, SummaryInspectionStrategy, DataTypesInspectionStrategy\n",
    "\n",
    "pd.set_option(\"display.max_rows\", 100)"
   ],
   "outputs": [],
   "execution_count": 1
  },
  {
   "cell_type": "code",
   "metadata": {
    "ExecuteTime": {
     "end_time": "2024-09-06T07:10:28.364419Z",
     "start_time": "2024-09-06T07:10:27.838933Z"
    }
   },
   "source": [
    "train_path = \"../extracted_data/train.csv\"\n",
    "test_path = \"../extracted_data/test.csv\"\n",
    "\n",
    "train_df = pd.read_csv(train_path)\n",
    "test_df = pd.read_csv(test_path)"
   ],
   "outputs": [],
   "execution_count": 2
  },
  {
   "metadata": {
    "ExecuteTime": {
     "end_time": "2024-09-06T07:10:28.430166Z",
     "start_time": "2024-09-06T07:10:28.365432Z"
    }
   },
   "cell_type": "code",
   "source": [
    "data_inspector = DataInspector(DataTypesInspectionStrategy())\n",
    "data_inspector.execute_inspection(train_df)"
   ],
   "outputs": [
    {
     "name": "stdout",
     "output_type": "stream",
     "text": [
      "\n",
      "Data types and Non-Null Count\n",
      "<class 'pandas.core.frame.DataFrame'>\n",
      "RangeIndex: 188533 entries, 0 to 188532\n",
      "Data columns (total 13 columns):\n",
      " #   Column        Non-Null Count   Dtype \n",
      "---  ------        --------------   ----- \n",
      " 0   id            188533 non-null  int64 \n",
      " 1   brand         188533 non-null  object\n",
      " 2   model         188533 non-null  object\n",
      " 3   model_year    188533 non-null  int64 \n",
      " 4   milage        188533 non-null  int64 \n",
      " 5   fuel_type     183450 non-null  object\n",
      " 6   engine        188533 non-null  object\n",
      " 7   transmission  188533 non-null  object\n",
      " 8   ext_col       188533 non-null  object\n",
      " 9   int_col       188533 non-null  object\n",
      " 10  accident      186081 non-null  object\n",
      " 11  clean_title   167114 non-null  object\n",
      " 12  price         188533 non-null  int64 \n",
      "dtypes: int64(4), object(9)\n",
      "memory usage: 18.7+ MB\n",
      "None\n",
      "\n",
      "\n",
      "Null Count\n",
      "id                  0\n",
      "brand               0\n",
      "model               0\n",
      "model_year          0\n",
      "milage              0\n",
      "fuel_type        5083\n",
      "engine              0\n",
      "transmission        0\n",
      "ext_col             0\n",
      "int_col             0\n",
      "accident         2452\n",
      "clean_title     21419\n",
      "price               0\n",
      "dtype: int64\n"
     ]
    }
   ],
   "execution_count": 3
  },
  {
   "metadata": {
    "ExecuteTime": {
     "end_time": "2024-09-06T07:10:29.429094Z",
     "start_time": "2024-09-06T07:10:29.290627Z"
    }
   },
   "cell_type": "code",
   "source": [
    "data_inspector.set_strategy(SummaryInspectionStrategy())\n",
    "data_inspector.execute_inspection(train_df)"
   ],
   "outputs": [
    {
     "name": "stdout",
     "output_type": "stream",
     "text": [
      "\n",
      "Summary Statistics\n",
      "\n",
      "\n",
      "                  id     model_year         milage         price\n",
      "count  188533.000000  188533.000000  188533.000000  1.885330e+05\n",
      "mean    94266.000000    2015.829998   65705.295174  4.387802e+04\n",
      "std     54424.933488       5.660967   49798.158076  7.881952e+04\n",
      "min         0.000000    1974.000000     100.000000  2.000000e+03\n",
      "25%     47133.000000    2013.000000   24115.000000  1.700000e+04\n",
      "50%     94266.000000    2017.000000   57785.000000  3.082500e+04\n",
      "75%    141399.000000    2020.000000   95400.000000  4.990000e+04\n",
      "max    188532.000000    2024.000000  405000.000000  2.954083e+06\n",
      "\n",
      "\n",
      "         brand      model fuel_type  \\\n",
      "count   188533     188533    183450   \n",
      "unique      57       1897         7   \n",
      "top       Ford  F-150 XLT  Gasoline   \n",
      "freq     23088       2945    165940   \n",
      "\n",
      "                                              engine transmission ext_col  \\\n",
      "count                                         188533       188533  188533   \n",
      "unique                                          1117           52     319   \n",
      "top     355.0HP 5.3L 8 Cylinder Engine Gasoline Fuel          A/T   Black   \n",
      "freq                                            3462        49904   48658   \n",
      "\n",
      "       int_col       accident clean_title  \n",
      "count   188533         186081      167114  \n",
      "unique     156              2           1  \n",
      "top      Black  None reported         Yes  \n",
      "freq    107674         144514      167114  \n"
     ]
    }
   ],
   "execution_count": 4
  },
  {
   "metadata": {},
   "cell_type": "code",
   "outputs": [],
   "execution_count": null,
   "source": ""
  }
 ],
 "metadata": {
  "kernelspec": {
   "display_name": "vision",
   "language": "python",
   "name": "python3"
  },
  "language_info": {
   "codemirror_mode": {
    "name": "ipython",
    "version": 3
   },
   "file_extension": ".py",
   "mimetype": "text/x-python",
   "name": "python",
   "nbconvert_exporter": "python",
   "pygments_lexer": "ipython3",
   "version": "3.12.0"
  }
 },
 "nbformat": 4,
 "nbformat_minor": 2
}
